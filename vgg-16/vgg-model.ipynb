{
 "cells": [
  {
   "cell_type": "markdown",
   "metadata": {},
   "source": [
    "# Importing Libraries"
   ]
  },
  {
   "cell_type": "code",
   "execution_count": 1,
   "metadata": {},
   "outputs": [],
   "source": [
    "import os\n",
    "import pandas as pd\n",
    "import pickle\n",
    "import shutil\n",
    "import numpy as np\n",
    "import seaborn as sns\n",
    "import tensorflow as tf\n",
    "from sklearn.datasets import load_files\n",
    "from keras.utils import np_utils\n",
    "import matplotlib.pyplot as plt\n",
    "from tensorflow.keras.layers import Conv2D, MaxPooling2D, GlobalAveragePooling2D\n",
    "from tensorflow.keras.layers import Dropout, Flatten, Dense\n",
    "from tensorflow.keras.models import Sequential\n",
    "from keras.utils.vis_utils import plot_model\n",
    "from tensorflow.keras.callbacks import ModelCheckpoint\n",
    "from tensorflow.keras.utils import to_categorical\n",
    "from sklearn.metrics import confusion_matrix\n",
    "from sklearn.metrics import accuracy_score,precision_score,recall_score,f1_score\n",
    "\n",
    "\n",
    "from PIL import ImageFile   \n",
    "from sklearn.model_selection import train_test_split\n",
    "from keras.preprocessing import image                  \n",
    "from tqdm import tqdm\n",
    "\n",
    "from keras.applications.vgg16 import VGG16"
   ]
  },
  {
   "cell_type": "markdown",
   "metadata": {},
   "source": [
    "# Defining the train,test and model directories\n",
    "\n",
    "* We will create the directories for train,test and model training paths if not present"
   ]
  },
  {
   "cell_type": "code",
   "execution_count": 2,
   "metadata": {},
   "outputs": [],
   "source": [
    "DATA_DIR = \"../driver-dataset/imgs\"\n",
    "TEST_DIR = os.path.join(DATA_DIR,\"test\")\n",
    "TRAIN_DIR = os.path.join(DATA_DIR,\"train\")\n",
    "\n",
    "CSV_DIR = os.path.join(os.getcwd(),\"csv_files\")\n",
    "\n",
    "MODEL_PATH = os.path.join(os.getcwd(),\"model\",\"vgg16\")\n",
    "PICKLE_PATH = os.path.join(os.getcwd(),\"pickle\")\n",
    "TEST_CSV = os.path.join(os.getcwd(),\"csv_files\",\"test.csv\")\n",
    "TRAIN_CSV = os.path.join(os.getcwd(),\"csv_files\",\"train.csv\")"
   ]
  },
  {
   "cell_type": "code",
   "execution_count": 3,
   "metadata": {},
   "outputs": [],
   "source": [
    "if not os.path.exists(TEST_DIR):\n",
    "    print(\"Testing data does not exists\")\n",
    "if not os.path.exists(TRAIN_DIR):\n",
    "    print(\"Training data does not exists\")\n",
    "if not os.path.exists(MODEL_PATH):\n",
    "    print(\"Model path does not exists\")\n",
    "    os.makedirs(MODEL_PATH)\n",
    "    print(\"Model path created\")\n",
    "else:\n",
    "    shutil.rmtree(MODEL_PATH)\n",
    "    os.makedirs(MODEL_PATH)\n",
    "if not os.path.exists(PICKLE_PATH):\n",
    "    os.makedirs(PICKLE_PATH)\n",
    "if not os.path.exists(CSV_DIR):\n",
    "    os.makedirs(CSV_DIR)\n",
    "    "
   ]
  },
  {
   "cell_type": "code",
   "execution_count": 4,
   "metadata": {},
   "outputs": [
    {
     "data": {
      "text/plain": [
       "['.DS_Store',\n",
       " 'vgg-model.ipynb',\n",
       " 'csv_files',\n",
       " 'model',\n",
       " 'pickle',\n",
       " '.ipynb_checkpoints']"
      ]
     },
     "execution_count": 4,
     "metadata": {},
     "output_type": "execute_result"
    }
   ],
   "source": [
    "os.listdir(os.getcwd())"
   ]
  },
  {
   "cell_type": "code",
   "execution_count": 5,
   "metadata": {},
   "outputs": [],
   "source": [
    "def create_csv(DATA_DIR,filename):\n",
    "    class_names = os.listdir(DATA_DIR)\n",
    "    data = list()\n",
    "    if(os.path.isdir(os.path.join(DATA_DIR,class_names[0]))):\n",
    "        for class_name in class_names:\n",
    "            file_names = os.listdir(os.path.join(DATA_DIR,class_name))\n",
    "            for file in file_names:\n",
    "                data.append({\n",
    "                    \"Filename\":os.path.join(DATA_DIR,class_name,file),\n",
    "                    \"ClassName\":class_name\n",
    "                })\n",
    "    else:\n",
    "        class_name = \"test\"\n",
    "        file_names = os.listdir(DATA_DIR)\n",
    "        for file in file_names:\n",
    "            data.append(({\n",
    "                \"FileName\":os.path.join(DATA_DIR,file),\n",
    "                \"ClassName\":class_name\n",
    "            }))\n",
    "    data = pd.DataFrame(data)\n",
    "    data.to_csv(os.path.join(os.getcwd(),\"csv_files\",filename),index=False)\n",
    "\n",
    "create_csv(TRAIN_DIR,\"train.csv\")\n",
    "create_csv(TEST_DIR,\"test.csv\")\n",
    "data_train = pd.read_csv(os.path.join(os.getcwd(),\"csv_files\",\"train.csv\"))\n",
    "data_test = pd.read_csv(os.path.join(os.getcwd(),\"csv_files\",\"test.csv\"))\n"
   ]
  },
  {
   "cell_type": "code",
   "execution_count": 6,
   "metadata": {},
   "outputs": [],
   "source": [
    "data_train = pd.read_csv(TRAIN_CSV)\n",
    "data_test = pd.read_csv(TEST_CSV)"
   ]
  },
  {
   "cell_type": "code",
   "execution_count": 7,
   "metadata": {},
   "outputs": [
    {
     "name": "stdout",
     "output_type": "stream",
     "text": [
      "{'c0': 0, 'c2': 1, 'c6': 2, 'c1': 3, 'c9': 4, 'c3': 5, 'c4': 6, 'c7': 7, 'c8': 8, 'c5': 9}\n",
      "(22424, 10)\n"
     ]
    }
   ],
   "source": [
    "labels_list = list(set(data_train['ClassName'].values.tolist()))\n",
    "labels_id = {label_name:id for id,label_name in enumerate(labels_list)}\n",
    "print(labels_id)\n",
    "data_train['ClassName'].replace(labels_id,inplace=True)\n",
    "\n",
    "labels = to_categorical(data_train['ClassName'])\n",
    "print(labels.shape)\n",
    "\n",
    "with open(os.path.join(PICKLE_PATH,\"labels_list_vgg16.pkl\"),\"wb\") as handle:\n",
    "    pickle.dump(labels_id,handle)"
   ]
  },
  {
   "cell_type": "markdown",
   "metadata": {},
   "source": [
    "# Data Preparation\n",
    "\n",
    "1. Converting the all the train and test images into image size of 64,64,3 \n",
    "2. Standardizing the flattened image vector "
   ]
  },
  {
   "cell_type": "code",
   "execution_count": 8,
   "metadata": {},
   "outputs": [],
   "source": [
    "xtrain,xtest,ytrain,ytest = train_test_split(data_train.iloc[:,0],labels,test_size = 0.2,random_state=42)\n",
    "def path_to_tensor(img_path):\n",
    "    # loads RGB image as PIL.Image.Image type\n",
    "    img = image.load_img(img_path, target_size=(64, 64))\n",
    "    # convert PIL.Image.Image type to 3D tensor with shape (64, 64, 3)\n",
    "    x = image.img_to_array(img)\n",
    "    # convert 3D tensor to 4D tensor with shape (1, 64, 64, 3) and return 4D tensor\n",
    "    return np.expand_dims(x, axis=0)\n",
    "\n",
    "def paths_to_tensor(img_paths):\n",
    "    list_of_tensors = [path_to_tensor(img_path) for img_path in tqdm(img_paths)]\n",
    "    return np.vstack(list_of_tensors)"
   ]
  },
  {
   "cell_type": "code",
   "execution_count": 9,
   "metadata": {},
   "outputs": [
    {
     "name": "stderr",
     "output_type": "stream",
     "text": [
      "100%|██████████| 17939/17939 [01:17<00:00, 230.90it/s]\n",
      "100%|██████████| 4485/4485 [00:19<00:00, 231.48it/s]\n"
     ]
    }
   ],
   "source": [
    "ImageFile.LOAD_TRUNCATED_IMAGES = True                 \n",
    "# pre-process the data for Keras\n",
    "train_tensors = paths_to_tensor(xtrain).astype('float32')/255 - 0.5\n",
    "valid_tensors = paths_to_tensor(xtest).astype('float32')/255 - 0.5"
   ]
  },
  {
   "cell_type": "markdown",
   "metadata": {},
   "source": [
    "# MODEL ARCHITECTURE\n",
    "\n",
    "## Approach Used\n",
    "1. Removing the top layer of VGG16 model\n",
    "2. Using the n-1 layers of VGG16 to predict the last layer of it using the flattened image vector \n",
    "3. The last layer thus achieved is a dense feature representation for a particular image\n",
    "4. Passing this layer feature through a GlobalAveragePooling Layer and a further dense softmax layer for each of 10 classes\n",
    "\n",
    "## Benefits\n",
    "\n",
    "1. Making CNN architecture from scratch involves in training of all the deep layers which results in slow training\n",
    "2. Instead of a large sparse image vector a dense feature representation used here requires less memory while training"
   ]
  },
  {
   "cell_type": "code",
   "execution_count": 10,
   "metadata": {
    "scrolled": true
   },
   "outputs": [
    {
     "name": "stdout",
     "output_type": "stream",
     "text": [
      "Model: \"vgg16\"\n",
      "_________________________________________________________________\n",
      "Layer (type)                 Output Shape              Param #   \n",
      "=================================================================\n",
      "input_1 (InputLayer)         [(None, None, None, 3)]   0         \n",
      "_________________________________________________________________\n",
      "block1_conv1 (Conv2D)        (None, None, None, 64)    1792      \n",
      "_________________________________________________________________\n",
      "block1_conv2 (Conv2D)        (None, None, None, 64)    36928     \n",
      "_________________________________________________________________\n",
      "block1_pool (MaxPooling2D)   (None, None, None, 64)    0         \n",
      "_________________________________________________________________\n",
      "block2_conv1 (Conv2D)        (None, None, None, 128)   73856     \n",
      "_________________________________________________________________\n",
      "block2_conv2 (Conv2D)        (None, None, None, 128)   147584    \n",
      "_________________________________________________________________\n",
      "block2_pool (MaxPooling2D)   (None, None, None, 128)   0         \n",
      "_________________________________________________________________\n",
      "block3_conv1 (Conv2D)        (None, None, None, 256)   295168    \n",
      "_________________________________________________________________\n",
      "block3_conv2 (Conv2D)        (None, None, None, 256)   590080    \n",
      "_________________________________________________________________\n",
      "block3_conv3 (Conv2D)        (None, None, None, 256)   590080    \n",
      "_________________________________________________________________\n",
      "block3_pool (MaxPooling2D)   (None, None, None, 256)   0         \n",
      "_________________________________________________________________\n",
      "block4_conv1 (Conv2D)        (None, None, None, 512)   1180160   \n",
      "_________________________________________________________________\n",
      "block4_conv2 (Conv2D)        (None, None, None, 512)   2359808   \n",
      "_________________________________________________________________\n",
      "block4_conv3 (Conv2D)        (None, None, None, 512)   2359808   \n",
      "_________________________________________________________________\n",
      "block4_pool (MaxPooling2D)   (None, None, None, 512)   0         \n",
      "_________________________________________________________________\n",
      "block5_conv1 (Conv2D)        (None, None, None, 512)   2359808   \n",
      "_________________________________________________________________\n",
      "block5_conv2 (Conv2D)        (None, None, None, 512)   2359808   \n",
      "_________________________________________________________________\n",
      "block5_conv3 (Conv2D)        (None, None, None, 512)   2359808   \n",
      "_________________________________________________________________\n",
      "block5_pool (MaxPooling2D)   (None, None, None, 512)   0         \n",
      "=================================================================\n",
      "Total params: 14,714,688\n",
      "Trainable params: 14,714,688\n",
      "Non-trainable params: 0\n",
      "_________________________________________________________________\n"
     ]
    }
   ],
   "source": [
    "model = VGG16(include_top=False)\n",
    "model.summary()"
   ]
  },
  {
   "cell_type": "code",
   "execution_count": 11,
   "metadata": {
    "scrolled": true
   },
   "outputs": [
    {
     "name": "stdout",
     "output_type": "stream",
     "text": [
      "561/561 [==============================] - 107s 191ms/step\n",
      "141/141 [==============================] - 30s 211ms/step\n"
     ]
    }
   ],
   "source": [
    "train_vgg16 = model.predict(train_tensors,verbose=1)\n",
    "valid_vgg16 = model.predict(valid_tensors,verbose=1)"
   ]
  },
  {
   "cell_type": "code",
   "execution_count": 14,
   "metadata": {},
   "outputs": [
    {
     "name": "stdout",
     "output_type": "stream",
     "text": [
      "Train shape (17939, 2, 2, 512)\n",
      "Validation shape (4485, 2, 2, 512)\n"
     ]
    }
   ],
   "source": [
    "print(\"Train shape\",train_vgg16.shape)\n",
    "print(\"Validation shape\",valid_vgg16.shape)"
   ]
  },
  {
   "cell_type": "code",
   "execution_count": 12,
   "metadata": {},
   "outputs": [],
   "source": [
    "train_features = train_vgg16[0]\n",
    "valid_features = valid_vgg16[0]"
   ]
  },
  {
   "cell_type": "code",
   "execution_count": 13,
   "metadata": {
    "scrolled": true
   },
   "outputs": [
    {
     "name": "stdout",
     "output_type": "stream",
     "text": [
      "Train features shape (2, 2, 512)\n",
      "Validation features shape (2, 2, 512)\n"
     ]
    }
   ],
   "source": [
    "print(\"Train features shape\",train_features.shape)\n",
    "print(\"Validation features shape\",valid_features.shape)"
   ]
  },
  {
   "cell_type": "code",
   "execution_count": 14,
   "metadata": {},
   "outputs": [
    {
     "name": "stdout",
     "output_type": "stream",
     "text": [
      "Model: \"sequential\"\n",
      "_________________________________________________________________\n",
      "Layer (type)                 Output Shape              Param #   \n",
      "=================================================================\n",
      "global_average_pooling2d (Gl (None, 512)               0         \n",
      "_________________________________________________________________\n",
      "dense (Dense)                (None, 10)                5130      \n",
      "=================================================================\n",
      "Total params: 5,130\n",
      "Trainable params: 5,130\n",
      "Non-trainable params: 0\n",
      "_________________________________________________________________\n"
     ]
    }
   ],
   "source": [
    "VGG16_model = Sequential()\n",
    "VGG16_model.add(GlobalAveragePooling2D(input_shape=train_features.shape))\n",
    "VGG16_model.add(Dense(10, activation='softmax', kernel_initializer='glorot_normal'))\n",
    "\n",
    "VGG16_model.summary()"
   ]
  },
  {
   "cell_type": "code",
   "execution_count": 15,
   "metadata": {},
   "outputs": [],
   "source": [
    "VGG16_model.compile(loss='categorical_crossentropy', optimizer='rmsprop', metrics=['accuracy'])"
   ]
  },
  {
   "cell_type": "code",
   "execution_count": 16,
   "metadata": {},
   "outputs": [
    {
     "data": {
      "image/png": "[encoded data removed]",
      "text/plain": [
       "<IPython.core.display.Image object>"
      ]
     },
     "execution_count": 16,
     "metadata": {},
     "output_type": "execute_result"
    }
   ],
   "source": [
    "plot_model(VGG16_model,to_file=os.path.join(os.getcwd(),\"model\",\"vgg16\",\"model_distracted_driver_vgg16.png\"),show_shapes=True,show_layer_names=True)"
   ]
  },
  {
   "cell_type": "code",
   "execution_count": 17,
   "metadata": {},
   "outputs": [
    {
     "name": "stdout",
     "output_type": "stream",
     "text": [
      "WARNING:tensorflow:`period` argument is deprecated. Please use `save_freq` to specify the frequency in number of batches seen.\n"
     ]
    }
   ],
   "source": [
    "filepath = os.path.join(MODEL_PATH,\"distracted-{epoch:02d}-{val_accuracy:.2f}.hdf5\")\n",
    "checkpoint = ModelCheckpoint(filepath, monitor='val_accuracy', verbose=1, save_best_only=True, mode='max',period=1)\n",
    "callbacks_list = [checkpoint]"
   ]
  },
  {
   "cell_type": "code",
   "execution_count": 21,
   "metadata": {
    "scrolled": false
   },
   "outputs": [
    {
     "name": "stdout",
     "output_type": "stream",
     "text": [
      "Epoch 1/20\n",
      "1122/1122 [==============================] - 1s 757us/step - loss: 0.4298 - accuracy: 0.8844 - val_loss: 0.4846 - val_accuracy: 0.8651\n",
      "\n",
      "Epoch 00001: val_accuracy improved from 0.86310 to 0.86511, saving model to /Users/manojkumar/Desktop/dmml2/vgg-16/model/vgg16/distracted-01-0.87.hdf5\n",
      "Epoch 2/20\n",
      "1122/1122 [==============================] - 1s 750us/step - loss: 0.4185 - accuracy: 0.8899 - val_loss: 0.4719 - val_accuracy: 0.8711\n",
      "\n",
      "Epoch 00002: val_accuracy improved from 0.86511 to 0.87113, saving model to /Users/manojkumar/Desktop/dmml2/vgg-16/model/vgg16/distracted-02-0.87.hdf5\n",
      "Epoch 3/20\n",
      "1122/1122 [==============================] - 1s 716us/step - loss: 0.4082 - accuracy: 0.8919 - val_loss: 0.4590 - val_accuracy: 0.8731\n",
      "\n",
      "Epoch 00003: val_accuracy improved from 0.87113 to 0.87313, saving model to /Users/manojkumar/Desktop/dmml2/vgg-16/model/vgg16/distracted-03-0.87.hdf5\n",
      "Epoch 4/20\n",
      "1122/1122 [==============================] - 1s 733us/step - loss: 0.3995 - accuracy: 0.8926 - val_loss: 0.4535 - val_accuracy: 0.8731\n",
      "\n",
      "Epoch 00004: val_accuracy did not improve from 0.87313\n",
      "Epoch 5/20\n",
      "1122/1122 [==============================] - 1s 711us/step - loss: 0.3909 - accuracy: 0.8970 - val_loss: 0.4520 - val_accuracy: 0.8705\n",
      "\n",
      "Epoch 00005: val_accuracy did not improve from 0.87313\n",
      "Epoch 6/20\n",
      "1122/1122 [==============================] - 1s 737us/step - loss: 0.3821 - accuracy: 0.8982 - val_loss: 0.4389 - val_accuracy: 0.8798\n",
      "\n",
      "Epoch 00006: val_accuracy improved from 0.87313 to 0.87982, saving model to /Users/manojkumar/Desktop/dmml2/vgg-16/model/vgg16/distracted-06-0.88.hdf5\n",
      "Epoch 7/20\n",
      "1122/1122 [==============================] - 1s 745us/step - loss: 0.3754 - accuracy: 0.8984 - val_loss: 0.4337 - val_accuracy: 0.8792\n",
      "\n",
      "Epoch 00007: val_accuracy did not improve from 0.87982\n",
      "Epoch 8/20\n",
      "1122/1122 [==============================] - 1s 741us/step - loss: 0.3680 - accuracy: 0.9004 - val_loss: 0.4476 - val_accuracy: 0.8722\n",
      "\n",
      "Epoch 00008: val_accuracy did not improve from 0.87982\n",
      "Epoch 9/20\n",
      "1122/1122 [==============================] - 1s 748us/step - loss: 0.3613 - accuracy: 0.9031 - val_loss: 0.4185 - val_accuracy: 0.8843\n",
      "\n",
      "Epoch 00009: val_accuracy improved from 0.87982 to 0.88428, saving model to /Users/manojkumar/Desktop/dmml2/vgg-16/model/vgg16/distracted-09-0.88.hdf5\n",
      "Epoch 10/20\n",
      "1122/1122 [==============================] - 1s 748us/step - loss: 0.3557 - accuracy: 0.9050 - val_loss: 0.4204 - val_accuracy: 0.8825\n",
      "\n",
      "Epoch 00010: val_accuracy did not improve from 0.88428\n",
      "Epoch 11/20\n",
      "1122/1122 [==============================] - 2s 1ms/step - loss: 0.3484 - accuracy: 0.9060 - val_loss: 0.4224 - val_accuracy: 0.8807\n",
      "\n",
      "Epoch 00011: val_accuracy did not improve from 0.88428\n",
      "Epoch 12/20\n",
      "1122/1122 [==============================] - 1s 1ms/step - loss: 0.3434 - accuracy: 0.9080 - val_loss: 0.4047 - val_accuracy: 0.8872\n",
      "\n",
      "Epoch 00012: val_accuracy improved from 0.88428 to 0.88718, saving model to /Users/manojkumar/Desktop/dmml2/vgg-16/model/vgg16/distracted-12-0.89.hdf5\n",
      "Epoch 13/20\n",
      "1122/1122 [==============================] - 1s 799us/step - loss: 0.3382 - accuracy: 0.9081 - val_loss: 0.3994 - val_accuracy: 0.8885\n",
      "\n",
      "Epoch 00013: val_accuracy improved from 0.88718 to 0.88852, saving model to /Users/manojkumar/Desktop/dmml2/vgg-16/model/vgg16/distracted-13-0.89.hdf5\n",
      "Epoch 14/20\n",
      "1122/1122 [==============================] - 1s 777us/step - loss: 0.3340 - accuracy: 0.9100 - val_loss: 0.4008 - val_accuracy: 0.8867\n",
      "\n",
      "Epoch 00014: val_accuracy did not improve from 0.88852\n",
      "Epoch 15/20\n",
      "1122/1122 [==============================] - 1s 857us/step - loss: 0.3293 - accuracy: 0.9117 - val_loss: 0.3954 - val_accuracy: 0.8876\n",
      "\n",
      "Epoch 00015: val_accuracy did not improve from 0.88852\n",
      "Epoch 16/20\n",
      "1122/1122 [==============================] - 1s 1ms/step - loss: 0.3254 - accuracy: 0.9128 - val_loss: 0.3856 - val_accuracy: 0.8928\n",
      "\n",
      "Epoch 00016: val_accuracy improved from 0.88852 to 0.89275, saving model to /Users/manojkumar/Desktop/dmml2/vgg-16/model/vgg16/distracted-16-0.89.hdf5\n",
      "Epoch 17/20\n",
      "1122/1122 [==============================] - 1s 1ms/step - loss: 0.3209 - accuracy: 0.9132 - val_loss: 0.3888 - val_accuracy: 0.8892\n",
      "\n",
      "Epoch 00017: val_accuracy did not improve from 0.89275\n",
      "Epoch 18/20\n",
      "1122/1122 [==============================] - 1s 872us/step - loss: 0.3159 - accuracy: 0.9142 - val_loss: 0.3906 - val_accuracy: 0.8872\n",
      "\n",
      "Epoch 00018: val_accuracy did not improve from 0.89275\n",
      "Epoch 19/20\n",
      "1122/1122 [==============================] - 1s 790us/step - loss: 0.3122 - accuracy: 0.9143 - val_loss: 0.3785 - val_accuracy: 0.8939\n",
      "\n",
      "Epoch 00019: val_accuracy improved from 0.89275 to 0.89387, saving model to /Users/manojkumar/Desktop/dmml2/vgg-16/model/vgg16/distracted-19-0.89.hdf5\n",
      "Epoch 20/20\n",
      "1122/1122 [==============================] - 1s 788us/step - loss: 0.3092 - accuracy: 0.9163 - val_loss: 0.3756 - val_accuracy: 0.8943\n",
      "\n",
      "Epoch 00020: val_accuracy improved from 0.89387 to 0.89431, saving model to /Users/manojkumar/Desktop/dmml2/vgg-16/model/vgg16/distracted-20-0.89.hdf5\n"
     ]
    }
   ],
   "source": [
    "model_history = VGG16_model.fit(train_vgg16,ytrain,validation_data = (valid_vgg16, ytest),epochs=20, batch_size=16, shuffle=True,callbacks=callbacks_list)"
   ]
  },
  {
   "cell_type": "code",
   "execution_count": 24,
   "metadata": {},
   "outputs": [
    {
     "data": {
      "image/png": "[encoded data removed]",
      "text/plain": [
       "<Figure size 432x288 with 1 Axes>"
      ]
     },
     "metadata": {
      "needs_background": "light"
     },
     "output_type": "display_data"
    }
   ],
   "source": [
    "# Summarize history for accuracy\n",
    "plt.plot(model_history.history['accuracy'])\n",
    "plt.plot(model_history.history['val_accuracy'])\n",
    "plt.title('Model accuracy')\n",
    "plt.ylabel('accuracy')\n",
    "plt.xlabel('epoch')\n",
    "plt.legend(['train', 'test'], loc='upper left')\n",
    "plt.show()\n",
    "\n"
   ]
  },
  {
   "cell_type": "code",
   "execution_count": 25,
   "metadata": {},
   "outputs": [
    {
     "data": {
      "image/png": "[encoded data removed]",
      "text/plain": [
       "<Figure size 432x288 with 1 Axes>"
      ]
     },
     "metadata": {
      "needs_background": "light"
     },
     "output_type": "display_data"
    }
   ],
   "source": [
    "# Summarize history for loss\n",
    "plt.plot(model_history.history['loss'])\n",
    "plt.plot(model_history.history['val_loss'])\n",
    "plt.title('Model loss')\n",
    "plt.ylabel('loss')\n",
    "plt.xlabel('epoch')\n",
    "plt.legend(['train', 'test'], loc='upper left')\n",
    "plt.show()"
   ]
  },
  {
   "cell_type": "markdown",
   "metadata": {},
   "source": [
    "# Model Analysis\n",
    "Finding the Confusion matrix,Precision,Recall and F1 score to analyse the model thus created"
   ]
  },
  {
   "cell_type": "code",
   "execution_count": 26,
   "metadata": {},
   "outputs": [],
   "source": [
    "def print_confusion_matrix(confusion_matrix, class_names, figsize = (10,7), fontsize=14):\n",
    "    df_cm = pd.DataFrame(\n",
    "        confusion_matrix, index=class_names, columns=class_names, \n",
    "    )\n",
    "    fig = plt.figure(figsize=figsize)\n",
    "    try:\n",
    "        heatmap = sns.heatmap(df_cm, annot=True, fmt=\"d\")\n",
    "    except ValueError:\n",
    "        raise ValueError(\"Confusion matrix values must be integers.\")\n",
    "    heatmap.yaxis.set_ticklabels(heatmap.yaxis.get_ticklabels(), rotation=0, ha='right', fontsize=fontsize)\n",
    "    heatmap.xaxis.set_ticklabels(heatmap.xaxis.get_ticklabels(), rotation=45, ha='right', fontsize=fontsize)\n",
    "    plt.ylabel('True label')\n",
    "    plt.xlabel('Predicted label')\n",
    "    fig.savefig(os.path.join(MODEL_PATH,\"confusion_matrix.png\"))\n",
    "    return fig"
   ]
  },
  {
   "cell_type": "code",
   "execution_count": 27,
   "metadata": {},
   "outputs": [],
   "source": [
    "def print_heatmap(n_labels, n_predictions, class_names):\n",
    "    labels = n_labels #sess.run(tf.argmax(n_labels, 1))\n",
    "    predictions = n_predictions #sess.run(tf.argmax(n_predictions, 1))\n",
    "\n",
    "#     confusion_matrix = sess.run(tf.contrib.metrics.confusion_matrix(labels, predictions))\n",
    "    matrix = confusion_matrix(labels.argmax(axis=1),predictions.argmax(axis=1))\n",
    "    row_sum = np.sum(matrix, axis = 1)\n",
    "    w, h = matrix.shape\n",
    "\n",
    "    c_m = np.zeros((w, h))\n",
    "\n",
    "    for i in range(h):\n",
    "        c_m[i] = matrix[i] * 100 / row_sum[i]\n",
    "\n",
    "    c = c_m.astype(dtype = np.uint8)\n",
    "\n",
    "    \n",
    "    heatmap = print_confusion_matrix(c, class_names, figsize=(18,10), fontsize=20)"
   ]
  },
  {
   "cell_type": "code",
   "execution_count": 28,
   "metadata": {},
   "outputs": [
    {
     "name": "stdout",
     "output_type": "stream",
     "text": [
      "141/141 [==============================] - 0s 604us/step\n"
     ]
    }
   ],
   "source": [
    "class_names = list()\n",
    "for name,idx in labels_id.items():\n",
    "    class_names.append(name)\n",
    "# print(class_names)\n",
    "ypred = VGG16_model.predict(valid_vgg16,verbose=1)"
   ]
  },
  {
   "cell_type": "markdown",
   "metadata": {},
   "source": [
    "## Confusion Matrix"
   ]
  },
  {
   "cell_type": "code",
   "execution_count": 29,
   "metadata": {},
   "outputs": [
    {
     "data": {
      "image/png": "[encoded data removed]",
      "text/plain": [
       "<Figure size 1296x720 with 2 Axes>"
      ]
     },
     "metadata": {
      "needs_background": "light"
     },
     "output_type": "display_data"
    }
   ],
   "source": [
    "print_heatmap(ytest,ypred,class_names)"
   ]
  },
  {
   "cell_type": "markdown",
   "metadata": {},
   "source": [
    "# Precision Recall F1 Score"
   ]
  },
  {
   "cell_type": "code",
   "execution_count": 30,
   "metadata": {},
   "outputs": [],
   "source": [
    "ypred_class = np.argmax(ypred,axis=1)\n",
    "# print(ypred_class[:10])\n",
    "ytest = np.argmax(ytest,axis=1)"
   ]
  },
  {
   "cell_type": "code",
   "execution_count": 31,
   "metadata": {},
   "outputs": [
    {
     "name": "stdout",
     "output_type": "stream",
     "text": [
      "Accuracy: 0.894314\n",
      "Precision: 0.895088\n",
      "Recall: 0.894314\n",
      "F1 score: 0.894083\n"
     ]
    }
   ],
   "source": [
    "accuracy = accuracy_score(ytest,ypred_class)\n",
    "print('Accuracy: %f' % accuracy)\n",
    "# precision tp / (tp + fp)\n",
    "precision = precision_score(ytest, ypred_class,average='weighted')\n",
    "print('Precision: %f' % precision)\n",
    "# recall: tp / (tp + fn)\n",
    "recall = recall_score(ytest,ypred_class,average='weighted')\n",
    "print('Recall: %f' % recall)\n",
    "# f1: 2 tp / (2 tp + fp + fn)\n",
    "f1 = f1_score(ytest,ypred_class,average='weighted')\n",
    "print('F1 score: %f' % f1)"
   ]
  }
 ],
 "metadata": {
  "kernelspec": {
   "display_name": "Python 3",
   "language": "python",
   "name": "python3"
  },
  "language_info": {
   "codemirror_mode": {
    "name": "ipython",
    "version": 3
   },
   "file_extension": ".py",
   "mimetype": "text/x-python",
   "name": "python",
   "nbconvert_exporter": "python",
   "pygments_lexer": "ipython3",
   "version": "3.8.5"
  }
 },
 "nbformat": 4,
 "nbformat_minor": 4
}
